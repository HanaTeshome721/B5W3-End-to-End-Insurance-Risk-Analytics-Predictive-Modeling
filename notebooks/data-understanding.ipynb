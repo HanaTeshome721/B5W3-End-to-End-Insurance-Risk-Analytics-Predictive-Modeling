{
 "cells": [
  {
   "cell_type": "markdown",
   "id": "b5153c31",
   "metadata": {},
   "source": [
    "1. Import Libraries and Load Data"
   ]
  },
  {
   "cell_type": "code",
   "execution_count": null,
   "id": "69842570",
   "metadata": {
    "vscode": {
     "languageId": "plaintext"
    }
   },
   "outputs": [],
   "source": [
    "import pandas as pd\n",
    "import numpy as np\n",
    "import matplotlib.pyplot as plt\n",
    "import seaborn as sns\n",
    "\n",
    "# Display settings\n",
    "pd.set_option('display.max_columns', None)\n",
    "sns.set(style=\"whitegrid\")\n",
    "\n",
    "# Load Data\n",
    "df = pd.read_csv('../data/raw/insurance_data.csv')  # Adjust path as needed\n"
   ]
  },
  {
   "cell_type": "markdown",
   "id": "d3926bfb",
   "metadata": {},
   "source": [
    "2. Data Structure & Overview"
   ]
  },
  {
   "cell_type": "code",
   "execution_count": null,
   "id": "43dc0bdc",
   "metadata": {
    "vscode": {
     "languageId": "plaintext"
    }
   },
   "outputs": [],
   "source": [
    "# Shape and dtypes\n",
    "print(df.shape)\n",
    "print(df.dtypes)\n",
    "\n",
    "# Sample rows\n",
    "df.head()\n"
   ]
  },
  {
   "cell_type": "markdown",
   "id": "877dd86a",
   "metadata": {},
   "source": [
    "3. Descriptive Statistics"
   ]
  },
  {
   "cell_type": "code",
   "execution_count": null,
   "id": "a135f541",
   "metadata": {
    "vscode": {
     "languageId": "plaintext"
    }
   },
   "outputs": [],
   "source": [
    "# Summary for numerical columns\n",
    "df.describe()\n",
    "\n",
    "# Variability (standard deviation)\n",
    "df[['TotalPremium', 'TotalClaims', 'CustomValueEstimate']].std()\n"
   ]
  },
  {
   "cell_type": "markdown",
   "id": "cf5c7fe8",
   "metadata": {},
   "source": [
    "4. Check for Missing Values"
   ]
  },
  {
   "cell_type": "code",
   "execution_count": null,
   "id": "8d29a213",
   "metadata": {
    "vscode": {
     "languageId": "plaintext"
    }
   },
   "outputs": [],
   "source": [
    "# Count missing values\n",
    "missing = df.isnull().sum()\n",
    "missing[missing > 0].sort_values(ascending=False)\n"
   ]
  },
  {
   "cell_type": "markdown",
   "id": "15e44ebf",
   "metadata": {},
   "source": [
    "5. Loss Ratio Analysis"
   ]
  },
  {
   "cell_type": "code",
   "execution_count": null,
   "id": "4cef2066",
   "metadata": {
    "vscode": {
     "languageId": "plaintext"
    }
   },
   "outputs": [],
   "source": [
    "# Overall loss ratio\n",
    "df['LossRatio'] = df['TotalClaims'] / df['TotalPremium']\n",
    "overall_loss_ratio = df['LossRatio'].mean()\n",
    "print(f\"Overall Loss Ratio: {overall_loss_ratio:.2f}\")\n",
    "\n",
    "# By Province\n",
    "loss_by_province = df.groupby('Province')['LossRatio'].mean().sort_values()\n",
    "loss_by_province.plot(kind='barh', title='Loss Ratio by Province', figsize=(10, 6))\n",
    "plt.xlabel(\"Loss Ratio\")\n",
    "plt.tight_layout()\n",
    "plt.show()\n",
    "\n",
    "# By VehicleType\n",
    "loss_by_vehicle = df.groupby('VehicleType')['LossRatio'].mean().sort_values()\n",
    "loss_by_vehicle.plot(kind='barh', title='Loss Ratio by Vehicle Type', figsize=(10, 6))\n",
    "plt.xlabel(\"Loss Ratio\")\n",
    "plt.tight_layout()\n",
    "plt.show()\n",
    "\n",
    "# By Gender\n",
    "loss_by_gender = df.groupby('Gender')['LossRatio'].mean()\n",
    "loss_by_gender.plot(kind='bar', title='Loss Ratio by Gender', figsize=(6, 4), color='orchid')\n",
    "plt.ylabel(\"Loss Ratio\")\n",
    "plt.tight_layout()\n",
    "plt.show()\n"
   ]
  },
  {
   "cell_type": "markdown",
   "id": "1029c152",
   "metadata": {},
   "source": [
    "6. Univariate Distributions"
   ]
  },
  {
   "cell_type": "code",
   "execution_count": null,
   "id": "e680aba4",
   "metadata": {
    "vscode": {
     "languageId": "plaintext"
    }
   },
   "outputs": [],
   "source": [
    "# Histogram: TotalPremium\n",
    "sns.histplot(df['TotalPremium'], bins=50, kde=True)\n",
    "plt.title(\"Distribution of TotalPremium\")\n",
    "plt.show()\n",
    "\n",
    "# Histogram: TotalClaims\n",
    "sns.histplot(df['TotalClaims'], bins=50, kde=True)\n",
    "plt.title(\"Distribution of TotalClaims\")\n",
    "plt.show()\n",
    "\n",
    "# Histogram: CustomValueEstimate\n",
    "sns.histplot(df['CustomValueEstimate'], bins=50, kde=True)\n",
    "plt.title(\"Distribution of CustomValueEstimate\")\n",
    "plt.show()\n"
   ]
  },
  {
   "cell_type": "markdown",
   "id": "596ff323",
   "metadata": {},
   "source": [
    "7. Outlier Detection (Box Plots)"
   ]
  },
  {
   "cell_type": "code",
   "execution_count": null,
   "id": "86cbcedf",
   "metadata": {
    "vscode": {
     "languageId": "plaintext"
    }
   },
   "outputs": [],
   "source": [
    "plt.figure(figsize=(12, 6))\n",
    "sns.boxplot(x=df['TotalClaims'])\n",
    "plt.title(\"Outlier Detection in TotalClaims\")\n",
    "plt.show()\n",
    "\n",
    "plt.figure(figsize=(12, 6))\n",
    "sns.boxplot(x=df['CustomValueEstimate'])\n",
    "plt.title(\"Outlier Detection in CustomValueEstimate\")\n",
    "plt.show()\n"
   ]
  },
  {
   "cell_type": "markdown",
   "id": "07fe59b1",
   "metadata": {},
   "source": [
    "8. Temporal Trends"
   ]
  },
  {
   "cell_type": "code",
   "execution_count": null,
   "id": "4b7fa93b",
   "metadata": {
    "vscode": {
     "languageId": "plaintext"
    }
   },
   "outputs": [],
   "source": [
    "# Convert to datetime\n",
    "df['TransactionMonth'] = pd.to_datetime(df['TransactionMonth'])\n",
    "\n",
    "# Group by month\n",
    "monthly = df.groupby(df['TransactionMonth'].dt.to_period('M')).agg({\n",
    "    'TotalClaims': 'sum',\n",
    "    'TotalPremium': 'sum'\n",
    "}).reset_index()\n",
    "\n",
    "monthly['TransactionMonth'] = monthly['TransactionMonth'].astype(str)\n",
    "\n",
    "# Plot trend\n",
    "plt.figure(figsize=(14, 6))\n",
    "sns.lineplot(data=monthly, x='TransactionMonth', y='TotalClaims', label='Claims')\n",
    "sns.lineplot(data=monthly, x='TransactionMonth', y='TotalPremium', label='Premium')\n",
    "plt.xticks(rotation=45)\n",
    "plt.title(\"Monthly Trends in Claims and Premiums\")\n",
    "plt.legend()\n",
    "plt.tight_layout()\n",
    "plt.show()\n"
   ]
  },
  {
   "cell_type": "markdown",
   "id": "12cfd8df",
   "metadata": {},
   "source": [
    "9. Correlation Analysis"
   ]
  },
  {
   "cell_type": "code",
   "execution_count": null,
   "id": "e4f768b3",
   "metadata": {
    "vscode": {
     "languageId": "plaintext"
    }
   },
   "outputs": [],
   "source": [
    "# Correlation matrix\n",
    "corr = df[['TotalClaims', 'TotalPremium', 'CustomValueEstimate']].corr()\n",
    "\n",
    "# Heatmap\n",
    "sns.heatmap(corr, annot=True, cmap='coolwarm', fmt=\".2f\")\n",
    "plt.title(\"Correlation Matrix\")\n",
    "plt.show()\n"
   ]
  },
  {
   "cell_type": "markdown",
   "id": "813881a5",
   "metadata": {},
   "source": [
    "10. Vehicle Make/Model Insights"
   ]
  },
  {
   "cell_type": "code",
   "execution_count": null,
   "id": "9a6d90bd",
   "metadata": {
    "vscode": {
     "languageId": "plaintext"
    }
   },
   "outputs": [],
   "source": [
    "# Top claims by make\n",
    "top_makes = df.groupby('Make')['TotalClaims'].mean().sort_values(ascending=False).head(10)\n",
    "top_makes.plot(kind='bar', title=\"Top 10 Makes by Average Claim\", figsize=(10, 5), color='salmon')\n",
    "plt.ylabel(\"Average Claims\")\n",
    "plt.tight_layout()\n",
    "plt.show()\n",
    "\n",
    "# Lowest claims by make\n",
    "low_makes = df.groupby('Make')['TotalClaims'].mean().sort_values().head(10)\n",
    "low_makes.plot(kind='bar', title=\"Lowest 10 Makes by Average Claim\", figsize=(10, 5), color='skyblue')\n",
    "plt.ylabel(\"Average Claims\")\n",
    "plt.tight_layout()\n",
    "plt.show()\n"
   ]
  },
  {
   "cell_type": "markdown",
   "id": "e0b553ea",
   "metadata": {},
   "source": [
    "11. Geographical Comparison Example"
   ]
  },
  {
   "cell_type": "code",
   "execution_count": null,
   "id": "a573a44f",
   "metadata": {
    "vscode": {
     "languageId": "plaintext"
    }
   },
   "outputs": [],
   "source": [
    "# Average Premium by Province\n",
    "df.groupby('Province')['TotalPremium'].mean().sort_values().plot(\n",
    "    kind='barh', title=\"Average Premium by Province\", figsize=(10, 6), color='goldenrod'\n",
    ")\n",
    "plt.xlabel(\"Average Premium\")\n",
    "plt.tight_layout()\n",
    "plt.show()\n"
   ]
  },
  {
   "cell_type": "markdown",
   "id": "c6fa0993",
   "metadata": {},
   "source": [
    "12. 3 Beautiful Visuals to Capture Insight"
   ]
  },
  {
   "cell_type": "markdown",
   "id": "e2787016",
   "metadata": {},
   "source": [
    "CustomValueEstimate vs Claim"
   ]
  },
  {
   "cell_type": "code",
   "execution_count": null,
   "id": "faae23b2",
   "metadata": {
    "vscode": {
     "languageId": "plaintext"
    }
   },
   "outputs": [],
   "source": [
    "sns.scatterplot(data=df, x='CustomValueEstimate', y='TotalClaims', hue='VehicleType', alpha=0.6)\n",
    "plt.title(\"CustomValueEstimate vs TotalClaims by VehicleType\")\n",
    "plt.xscale(\"log\")\n",
    "plt.yscale(\"log\")\n",
    "plt.tight_layout()\n",
    "plt.show()\n"
   ]
  },
  {
   "cell_type": "markdown",
   "id": "802ddc30",
   "metadata": {},
   "source": [
    "Loss Ratio Distribution"
   ]
  },
  {
   "cell_type": "code",
   "execution_count": null,
   "id": "9e16d06c",
   "metadata": {
    "vscode": {
     "languageId": "plaintext"
    }
   },
   "outputs": [],
   "source": [
    "sns.violinplot(x='Gender', y='LossRatio', data=df)\n",
    "plt.title(\"Distribution of Loss Ratio by Gender\")\n",
    "plt.tight_layout()\n",
    "plt.show()\n"
   ]
  },
  {
   "cell_type": "markdown",
   "id": "fe8913a4",
   "metadata": {},
   "source": [
    "Premium Over Time by Province"
   ]
  },
  {
   "cell_type": "code",
   "execution_count": null,
   "id": "34da238b",
   "metadata": {
    "vscode": {
     "languageId": "plaintext"
    }
   },
   "outputs": [],
   "source": [
    "premium_trends = df.groupby(['TransactionMonth', 'Province'])['TotalPremium'].mean().reset_index()\n",
    "premium_trends['TransactionMonth'] = pd.to_datetime(premium_trends['TransactionMonth'])\n",
    "\n",
    "plt.figure(figsize=(12, 6))\n",
    "sns.lineplot(data=premium_trends, x='TransactionMonth', y='TotalPremium', hue='Province')\n",
    "plt.title(\"Average Premium Over Time by Province\")\n",
    "plt.xticks(rotation=45)\n",
    "plt.tight_layout()\n",
    "plt.show()\n"
   ]
  }
 ],
 "metadata": {
  "language_info": {
   "name": "python"
  }
 },
 "nbformat": 4,
 "nbformat_minor": 5
}
