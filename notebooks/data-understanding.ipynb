{
 "cells": [
  {
   "cell_type": "markdown",
   "id": "b5153c31",
   "metadata": {},
   "source": [
    "1. Import Libraries and Load Data"
   ]
  },
  {
   "cell_type": "code",
   "execution_count": null,
   "id": "69842570",
   "metadata": {
    "vscode": {
     "languageId": "plaintext"
    }
   },
   "outputs": [],
   "source": [
    "import pandas as pd\n",
    "import numpy as np\n",
    "import matplotlib.pyplot as plt\n",
    "import seaborn as sns\n",
    "\n",
    "# Display settings\n",
    "pd.set_option('display.max_columns', None)\n",
    "sns.set(style=\"whitegrid\")\n",
    "\n",
    "# Load Data\n",
    "df = pd.read_csv('../data/raw/insurance_data.csv')  # Adjust path as needed\n"
   ]
  },
  {
   "cell_type": "markdown",
   "id": "d3926bfb",
   "metadata": {},
   "source": [
    "2. Data Structure & Overview"
   ]
  },
  {
   "cell_type": "code",
   "execution_count": null,
   "id": "43dc0bdc",
   "metadata": {
    "vscode": {
     "languageId": "plaintext"
    }
   },
   "outputs": [],
   "source": [
    "# Shape and dtypes\n",
    "print(df.shape)\n",
    "print(df.dtypes)\n",
    "\n",
    "# Sample rows\n",
    "df.head()\n"
   ]
  },
  {
   "cell_type": "markdown",
   "id": "877dd86a",
   "metadata": {},
   "source": [
    "3. Descriptive Statistics"
   ]
  },
  {
   "cell_type": "code",
   "execution_count": null,
   "id": "a135f541",
   "metadata": {
    "vscode": {
     "languageId": "plaintext"
    }
   },
   "outputs": [],
   "source": [
    "# Summary for numerical columns\n",
    "df.describe()\n",
    "\n",
    "# Variability (standard deviation)\n",
    "df[['TotalPremium', 'TotalClaims', 'CustomValueEstimate']].std()\n"
   ]
  },
  {
   "cell_type": "markdown",
   "id": "cf5c7fe8",
   "metadata": {},
   "source": [
    "4. Check for Missing Values"
   ]
  },
  {
   "cell_type": "code",
   "execution_count": null,
   "id": "8d29a213",
   "metadata": {
    "vscode": {
     "languageId": "plaintext"
    }
   },
   "outputs": [],
   "source": [
    "# Count missing values\n",
    "missing = df.isnull().sum()\n",
    "missing[missing > 0].sort_values(ascending=False)\n"
   ]
  },
  {
   "cell_type": "markdown",
   "id": "15e44ebf",
   "metadata": {},
   "source": [
    "5. Loss Ratio Analysis"
   ]
  },
  {
   "cell_type": "code",
   "execution_count": null,
   "id": "4cef2066",
   "metadata": {
    "vscode": {
     "languageId": "plaintext"
    }
   },
   "outputs": [],
   "source": [
    "# Overall loss ratio\n",
    "df['LossRatio'] = df['TotalClaims'] / df['TotalPremium']\n",
    "overall_loss_ratio = df['LossRatio'].mean()\n",
    "print(f\"Overall Loss Ratio: {overall_loss_ratio:.2f}\")\n",
    "\n",
    "# By Province\n",
    "loss_by_province = df.groupby('Province')['LossRatio'].mean().sort_values()\n",
    "loss_by_province.plot(kind='barh', title='Loss Ratio by Province', figsize=(10, 6))\n",
    "plt.xlabel(\"Loss Ratio\")\n",
    "plt.tight_layout()\n",
    "plt.show()\n",
    "\n",
    "# By VehicleType\n",
    "loss_by_vehicle = df.groupby('VehicleType')['LossRatio'].mean().sort_values()\n",
    "loss_by_vehicle.plot(kind='barh', title='Loss Ratio by Vehicle Type', figsize=(10, 6))\n",
    "plt.xlabel(\"Loss Ratio\")\n",
    "plt.tight_layout()\n",
    "plt.show()\n",
    "\n",
    "# By Gender\n",
    "loss_by_gender = df.groupby('Gender')['LossRatio'].mean()\n",
    "loss_by_gender.plot(kind='bar', title='Loss Ratio by Gender', figsize=(6, 4), color='orchid')\n",
    "plt.ylabel(\"Loss Ratio\")\n",
    "plt.tight_layout()\n",
    "plt.show()\n"
   ]
  }
 ],
 "metadata": {
  "language_info": {
   "name": "python"
  }
 },
 "nbformat": 4,
 "nbformat_minor": 5
}
