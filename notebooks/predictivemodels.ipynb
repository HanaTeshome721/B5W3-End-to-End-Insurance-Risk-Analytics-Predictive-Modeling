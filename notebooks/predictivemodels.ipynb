{
 "cells": [
  {
   "cell_type": "markdown",
   "id": "e5e9c192",
   "metadata": {},
   "source": [
    " Data Preparation"
   ]
  },
  {
   "cell_type": "markdown",
   "id": "9bdc6143",
   "metadata": {},
   "source": [
    "Load Data:"
   ]
  },
  {
   "cell_type": "code",
   "execution_count": 1,
   "id": "39a66e3e",
   "metadata": {},
   "outputs": [],
   "source": [
    "import pandas as pd\n",
    "\n",
    "df = pd.read_parquet(\"../data/MachineLearningRating_v3.parquet\")\n"
   ]
  },
  {
   "cell_type": "markdown",
   "id": "869e4de5",
   "metadata": {},
   "source": [
    "Handle Missing Values:"
   ]
  },
  {
   "cell_type": "code",
   "execution_count": 2,
   "id": "a19aa521",
   "metadata": {},
   "outputs": [],
   "source": [
    "# Drop columns with too many missing values or impute\n",
    "df = df.dropna(subset=[\"TotalClaims\", \"TotalPremium\"])  # for target variables\n",
    "df = df.fillna(df.median(numeric_only=True))  # simple imputation\n"
   ]
  },
  {
   "cell_type": "markdown",
   "id": "babac991",
   "metadata": {},
   "source": [
    "Filter for Claim Severity Model:"
   ]
  },
  {
   "cell_type": "code",
   "execution_count": 3,
   "id": "4da60bb1",
   "metadata": {},
   "outputs": [],
   "source": [
    "df_claims = df[df['TotalClaims'] > 0].copy()\n"
   ]
  },
  {
   "cell_type": "markdown",
   "id": "0189aafd",
   "metadata": {},
   "source": [
    " Encode Categorical Variables:"
   ]
  },
  {
   "cell_type": "code",
   "execution_count": 4,
   "id": "4426ba3d",
   "metadata": {},
   "outputs": [],
   "source": [
    "df_encoded = pd.get_dummies(df_claims, drop_first=True)\n"
   ]
  },
  {
   "cell_type": "markdown",
   "id": "8959a9e6",
   "metadata": {},
   "source": [
    "Train-Test Split:"
   ]
  },
  {
   "cell_type": "code",
   "execution_count": 5,
   "id": "cae70c3f",
   "metadata": {},
   "outputs": [],
   "source": [
    "from sklearn.model_selection import train_test_split\n",
    "\n",
    "X = df_encoded.drop(columns=[\"TotalClaims\", \"TotalPremium\"])\n",
    "y = df_encoded[\"TotalClaims\"]\n",
    "X_train, X_test, y_train, y_test = train_test_split(X, y, test_size=0.2, random_state=42)\n"
   ]
  },
  {
   "cell_type": "markdown",
   "id": "b6914792",
   "metadata": {},
   "source": [
    " Modeling Techniques"
   ]
  },
  {
   "cell_type": "markdown",
   "id": "37e6856d",
   "metadata": {},
   "source": [
    "Linear Regression:"
   ]
  },
  {
   "cell_type": "code",
   "execution_count": 8,
   "id": "e4f65a84",
   "metadata": {},
   "outputs": [
    {
     "name": "stderr",
     "output_type": "stream",
     "text": [
      "C:\\Users\\try\\AppData\\Roaming\\Python\\Python312\\site-packages\\sklearn\\impute\\_base.py:635: UserWarning: Skipping features without any observed values: ['NumberOfVehiclesInFleet']. At least one non-missing value is needed for imputation with strategy='mean'.\n",
      "  warnings.warn(\n",
      "C:\\Users\\try\\AppData\\Roaming\\Python\\Python312\\site-packages\\sklearn\\impute\\_base.py:635: UserWarning: Skipping features without any observed values: ['NumberOfVehiclesInFleet']. At least one non-missing value is needed for imputation with strategy='mean'.\n",
      "  warnings.warn(\n"
     ]
    }
   ],
   "source": [
    "from sklearn.linear_model import LinearRegression\n",
    "from sklearn.metrics import mean_squared_error, r2_score\n",
    "import numpy as np\n",
    "\n",
    "# Impute missing values in X_train and X_test\n",
    "from sklearn.impute import SimpleImputer\n",
    "\n",
    "imputer = SimpleImputer(strategy=\"mean\")\n",
    "X_train_imputed = imputer.fit_transform(X_train)\n",
    "X_test_imputed = imputer.transform(X_test)\n",
    "\n",
    "lr = LinearRegression()\n",
    "lr.fit(X_train_imputed, y_train)\n",
    "y_pred_lr = lr.predict(X_test_imputed)\n",
    "\n",
    "rmse_lr = np.sqrt(mean_squared_error(y_test, y_pred_lr))\n",
    "r2_lr = r2_score(y_test, y_pred_lr)\n"
   ]
  },
  {
   "cell_type": "markdown",
   "id": "f8d7cbdb",
   "metadata": {},
   "source": [
    "Random Forest:"
   ]
  },
  {
   "cell_type": "code",
   "execution_count": 9,
   "id": "459d00d5",
   "metadata": {},
   "outputs": [],
   "source": [
    "from sklearn.ensemble import RandomForestRegressor\n",
    "\n",
    "rf = RandomForestRegressor(random_state=42)\n",
    "rf.fit(X_train, y_train)\n",
    "y_pred_rf = rf.predict(X_test)\n",
    "\n",
    "rmse_rf = np.sqrt(mean_squared_error(y_test, y_pred_rf))\n",
    "r2_rf = r2_score(y_test, y_pred_rf)\n"
   ]
  },
  {
   "cell_type": "markdown",
   "id": "45736154",
   "metadata": {},
   "source": [
    "XGBoost:"
   ]
  },
  {
   "cell_type": "code",
   "execution_count": 15,
   "id": "e4148df9",
   "metadata": {},
   "outputs": [
    {
     "name": "stdout",
     "output_type": "stream",
     "text": [
      "Defaulting to user installation because normal site-packages is not writeable\n",
      "Collecting xgboost\n",
      "  Using cached xgboost-3.0.2-py3-none-win_amd64.whl.metadata (2.1 kB)\n",
      "Requirement already satisfied: numpy in c:\\users\\try\\appdata\\roaming\\python\\python312\\site-packages (from xgboost) (2.1.3)\n",
      "Requirement already satisfied: scipy in c:\\users\\try\\appdata\\roaming\\python\\python312\\site-packages (from xgboost) (1.15.3)\n",
      "Using cached xgboost-3.0.2-py3-none-win_amd64.whl (150.0 MB)\n",
      "Installing collected packages: xgboost\n",
      "Successfully installed xgboost-3.0.2\n",
      "Note: you may need to restart the kernel to use updated packages.\n"
     ]
    },
    {
     "name": "stderr",
     "output_type": "stream",
     "text": [
      "\n",
      "[notice] A new release of pip is available: 24.2 -> 25.1.1\n",
      "[notice] To update, run: python.exe -m pip install --upgrade pip\n"
     ]
    }
   ],
   "source": [
    "%pip install xgboost\n",
    "import xgboost as xgb\n",
    "\n",
    "xgb_model = xgb.XGBRegressor(random_state=42)\n",
    "xgb_model.fit(X_train, y_train)\n",
    "y_pred_xgb = xgb_model.predict(X_test)\n",
    "\n",
    "rmse_xgb = np.sqrt(mean_squared_error(y_test, y_pred_xgb))\n",
    "r2_xgb = r2_score(y_test, y_pred_xgb)\n"
   ]
  },
  {
   "cell_type": "markdown",
   "id": "975fba4c",
   "metadata": {},
   "source": [
    "Model Interpretability (SHAP)"
   ]
  },
  {
   "cell_type": "code",
   "execution_count": 17,
   "id": "c3aef965",
   "metadata": {},
   "outputs": [
    {
     "name": "stdout",
     "output_type": "stream",
     "text": [
      "Defaulting to user installation because normal site-packages is not writeable\n",
      "Collecting shap\n",
      "  Downloading shap-0.48.0-cp312-cp312-win_amd64.whl.metadata (25 kB)\n",
      "Requirement already satisfied: numpy in c:\\users\\try\\appdata\\roaming\\python\\python312\\site-packages (from shap) (2.1.3)\n",
      "Requirement already satisfied: scipy in c:\\users\\try\\appdata\\roaming\\python\\python312\\site-packages (from shap) (1.15.3)\n",
      "Requirement already satisfied: scikit-learn in c:\\users\\try\\appdata\\roaming\\python\\python312\\site-packages (from shap) (1.6.1)\n",
      "Requirement already satisfied: pandas in c:\\users\\try\\appdata\\roaming\\python\\python312\\site-packages (from shap) (2.2.3)\n",
      "Requirement already satisfied: tqdm>=4.27.0 in c:\\users\\try\\appdata\\roaming\\python\\python312\\site-packages (from shap) (4.67.1)\n",
      "Requirement already satisfied: packaging>20.9 in c:\\users\\try\\appdata\\roaming\\python\\python312\\site-packages (from shap) (24.2)\n",
      "Collecting slicer==0.0.8 (from shap)\n",
      "  Downloading slicer-0.0.8-py3-none-any.whl.metadata (4.0 kB)\n",
      "Collecting numba>=0.54 (from shap)\n",
      "  Downloading numba-0.61.2-cp312-cp312-win_amd64.whl.metadata (2.9 kB)\n",
      "Collecting cloudpickle (from shap)\n",
      "  Downloading cloudpickle-3.1.1-py3-none-any.whl.metadata (7.1 kB)\n",
      "Requirement already satisfied: typing-extensions in c:\\users\\try\\appdata\\roaming\\python\\python312\\site-packages (from shap) (4.12.2)\n",
      "Collecting llvmlite<0.45,>=0.44.0dev0 (from numba>=0.54->shap)\n",
      "  Downloading llvmlite-0.44.0-cp312-cp312-win_amd64.whl.metadata (5.0 kB)\n",
      "Requirement already satisfied: colorama in c:\\users\\try\\appdata\\roaming\\python\\python312\\site-packages (from tqdm>=4.27.0->shap) (0.4.6)\n",
      "Requirement already satisfied: python-dateutil>=2.8.2 in c:\\users\\try\\appdata\\roaming\\python\\python312\\site-packages (from pandas->shap) (2.9.0.post0)\n",
      "Requirement already satisfied: pytz>=2020.1 in c:\\users\\try\\appdata\\roaming\\python\\python312\\site-packages (from pandas->shap) (2025.1)\n",
      "Requirement already satisfied: tzdata>=2022.7 in c:\\users\\try\\appdata\\roaming\\python\\python312\\site-packages (from pandas->shap) (2025.1)\n",
      "Requirement already satisfied: joblib>=1.2.0 in c:\\users\\try\\appdata\\roaming\\python\\python312\\site-packages (from scikit-learn->shap) (1.5.1)\n",
      "Requirement already satisfied: threadpoolctl>=3.1.0 in c:\\users\\try\\appdata\\roaming\\python\\python312\\site-packages (from scikit-learn->shap) (3.6.0)\n",
      "Requirement already satisfied: six>=1.5 in c:\\users\\try\\appdata\\roaming\\python\\python312\\site-packages (from python-dateutil>=2.8.2->pandas->shap) (1.17.0)\n",
      "Downloading shap-0.48.0-cp312-cp312-win_amd64.whl (545 kB)\n",
      "   ---------------------------------------- 0.0/545.3 kB ? eta -:--:--\n",
      "   ---------------------------------------- 0.0/545.3 kB ? eta -:--:--\n",
      "   ---------------------------------------- 0.0/545.3 kB ? eta -:--:--\n",
      "   ------------------- -------------------- 262.1/545.3 kB ? eta -:--:--\n",
      "   ------------------- -------------------- 262.1/545.3 kB ? eta -:--:--\n",
      "   ------------------- -------------------- 262.1/545.3 kB ? eta -:--:--\n",
      "   -------------------------------------- 545.3/545.3 kB 412.2 kB/s eta 0:00:00\n",
      "Downloading slicer-0.0.8-py3-none-any.whl (15 kB)\n",
      "Downloading numba-0.61.2-cp312-cp312-win_amd64.whl (2.8 MB)\n",
      "   ---------------------------------------- 0.0/2.8 MB ? eta -:--:--\n",
      "   ---------------------------------------- 0.0/2.8 MB ? eta -:--:--\n",
      "   --- ------------------------------------ 0.3/2.8 MB ? eta -:--:--\n",
      "   --- ------------------------------------ 0.3/2.8 MB ? eta -:--:--\n",
      "   ------- -------------------------------- 0.5/2.8 MB 558.9 kB/s eta 0:00:05\n",
      "   ------- -------------------------------- 0.5/2.8 MB 558.9 kB/s eta 0:00:05\n",
      "   ----------- ---------------------------- 0.8/2.8 MB 621.2 kB/s eta 0:00:04\n",
      "   ----------- ---------------------------- 0.8/2.8 MB 621.2 kB/s eta 0:00:04\n",
      "   -------------- ------------------------- 1.0/2.8 MB 662.5 kB/s eta 0:00:03\n",
      "   ------------------ --------------------- 1.3/2.8 MB 737.4 kB/s eta 0:00:03\n",
      "   ---------------------- ----------------- 1.6/2.8 MB 806.6 kB/s eta 0:00:02\n",
      "   ------------------------- -------------- 1.8/2.8 MB 853.0 kB/s eta 0:00:02\n",
      "   ----------------------------- ---------- 2.1/2.8 MB 844.8 kB/s eta 0:00:01\n",
      "   ----------------------------- ---------- 2.1/2.8 MB 844.8 kB/s eta 0:00:01\n",
      "   --------------------------------- ------ 2.4/2.8 MB 844.3 kB/s eta 0:00:01\n",
      "   --------------------------------- ------ 2.4/2.8 MB 844.3 kB/s eta 0:00:01\n",
      "   ------------------------------------- -- 2.6/2.8 MB 798.9 kB/s eta 0:00:01\n",
      "   ---------------------------------------- 2.8/2.8 MB 790.7 kB/s eta 0:00:00\n",
      "Downloading cloudpickle-3.1.1-py3-none-any.whl (20 kB)\n",
      "Downloading llvmlite-0.44.0-cp312-cp312-win_amd64.whl (30.3 MB)\n",
      "   ---------------------------------------- 0.0/30.3 MB ? eta -:--:--\n",
      "   ---------------------------------------- 0.0/30.3 MB ? eta -:--:--\n",
      "   ---------------------------------------- 0.3/30.3 MB ? eta -:--:--\n",
      "   ---------------------------------------- 0.3/30.3 MB ? eta -:--:--\n",
      "   ---------------------------------------- 0.3/30.3 MB ? eta -:--:--\n",
      "   ---------------------------------------- 0.3/30.3 MB ? eta -:--:--\n",
      "   ---------------------------------------- 0.3/30.3 MB ? eta -:--:--\n",
      "   ---------------------------------------- 0.3/30.3 MB ? eta -:--:--\n",
      "    --------------------------------------- 0.5/30.3 MB 195.0 kB/s eta 0:02:33\n",
      "    --------------------------------------- 0.5/30.3 MB 195.0 kB/s eta 0:02:33\n",
      "    --------------------------------------- 0.5/30.3 MB 195.0 kB/s eta 0:02:33\n",
      "    --------------------------------------- 0.5/30.3 MB 195.0 kB/s eta 0:02:33\n",
      "   - -------------------------------------- 0.8/30.3 MB 248.5 kB/s eta 0:01:59\n",
      "   - -------------------------------------- 1.0/30.3 MB 328.9 kB/s eta 0:01:30\n",
      "   - -------------------------------------- 1.3/30.3 MB 409.1 kB/s eta 0:01:11\n",
      "   - -------------------------------------- 1.3/30.3 MB 409.1 kB/s eta 0:01:11\n",
      "   - -------------------------------------- 1.3/30.3 MB 409.1 kB/s eta 0:01:11\n",
      "   -- ------------------------------------- 1.6/30.3 MB 415.2 kB/s eta 0:01:10\n",
      "   -- ------------------------------------- 1.6/30.3 MB 415.2 kB/s eta 0:01:10\n",
      "   -- ------------------------------------- 1.8/30.3 MB 437.6 kB/s eta 0:01:06\n",
      "   -- ------------------------------------- 1.8/30.3 MB 437.6 kB/s eta 0:01:06\n",
      "   -- ------------------------------------- 2.1/30.3 MB 464.1 kB/s eta 0:01:01\n",
      "   -- ------------------------------------- 2.1/30.3 MB 464.1 kB/s eta 0:01:01\n",
      "   --- ------------------------------------ 2.4/30.3 MB 475.9 kB/s eta 0:00:59\n",
      "   --- ------------------------------------ 2.6/30.3 MB 491.8 kB/s eta 0:00:57\n",
      "   --- ------------------------------------ 2.6/30.3 MB 491.8 kB/s eta 0:00:57\n",
      "   --- ------------------------------------ 2.9/30.3 MB 509.9 kB/s eta 0:00:54\n",
      "   --- ------------------------------------ 2.9/30.3 MB 509.9 kB/s eta 0:00:54\n",
      "   ---- ----------------------------------- 3.1/30.3 MB 518.4 kB/s eta 0:00:53\n",
      "   ---- ----------------------------------- 3.1/30.3 MB 518.4 kB/s eta 0:00:53\n",
      "   ---- ----------------------------------- 3.4/30.3 MB 522.9 kB/s eta 0:00:52\n",
      "   ---- ----------------------------------- 3.4/30.3 MB 522.9 kB/s eta 0:00:52\n",
      "   ---- ----------------------------------- 3.7/30.3 MB 531.9 kB/s eta 0:00:51\n",
      "   ---- ----------------------------------- 3.7/30.3 MB 531.9 kB/s eta 0:00:51\n",
      "   ----- ---------------------------------- 3.9/30.3 MB 539.9 kB/s eta 0:00:49\n",
      "   ----- ---------------------------------- 4.2/30.3 MB 553.0 kB/s eta 0:00:48\n",
      "   ----- ---------------------------------- 4.2/30.3 MB 553.0 kB/s eta 0:00:48\n",
      "   ----- ---------------------------------- 4.5/30.3 MB 565.1 kB/s eta 0:00:46\n",
      "   ----- ---------------------------------- 4.5/30.3 MB 565.1 kB/s eta 0:00:46\n",
      "   ------ --------------------------------- 4.7/30.3 MB 563.6 kB/s eta 0:00:46\n",
      "   ------ --------------------------------- 4.7/30.3 MB 563.6 kB/s eta 0:00:46\n",
      "   ------ --------------------------------- 4.7/30.3 MB 563.6 kB/s eta 0:00:46\n",
      "   ------ --------------------------------- 5.0/30.3 MB 553.0 kB/s eta 0:00:46\n",
      "   ------ --------------------------------- 5.2/30.3 MB 574.3 kB/s eta 0:00:44\n",
      "   ------ --------------------------------- 5.2/30.3 MB 574.3 kB/s eta 0:00:44\n",
      "   ------ --------------------------------- 5.2/30.3 MB 574.3 kB/s eta 0:00:44\n",
      "   ------- -------------------------------- 5.5/30.3 MB 564.8 kB/s eta 0:00:44\n",
      "   ------- -------------------------------- 5.5/30.3 MB 564.8 kB/s eta 0:00:44\n",
      "   ------- -------------------------------- 5.8/30.3 MB 566.4 kB/s eta 0:00:44\n",
      "   ------- -------------------------------- 5.8/30.3 MB 566.4 kB/s eta 0:00:44\n",
      "   ------- -------------------------------- 5.8/30.3 MB 566.4 kB/s eta 0:00:44\n",
      "   ------- -------------------------------- 6.0/30.3 MB 555.0 kB/s eta 0:00:44\n",
      "   ------- -------------------------------- 6.0/30.3 MB 555.0 kB/s eta 0:00:44\n",
      "   ------- -------------------------------- 6.0/30.3 MB 555.0 kB/s eta 0:00:44\n",
      "   -------- ------------------------------- 6.3/30.3 MB 548.9 kB/s eta 0:00:44\n",
      "   -------- ------------------------------- 6.3/30.3 MB 548.9 kB/s eta 0:00:44\n",
      "   -------- ------------------------------- 6.3/30.3 MB 548.9 kB/s eta 0:00:44\n",
      "   -------- ------------------------------- 6.6/30.3 MB 540.5 kB/s eta 0:00:44\n",
      "   -------- ------------------------------- 6.6/30.3 MB 540.5 kB/s eta 0:00:44\n",
      "   -------- ------------------------------- 6.8/30.3 MB 536.3 kB/s eta 0:00:44\n",
      "   -------- ------------------------------- 6.8/30.3 MB 536.3 kB/s eta 0:00:44\n",
      "   --------- ------------------------------ 7.1/30.3 MB 541.8 kB/s eta 0:00:43\n",
      "   --------- ------------------------------ 7.3/30.3 MB 552.4 kB/s eta 0:00:42\n",
      "   ---------- ----------------------------- 7.6/30.3 MB 561.2 kB/s eta 0:00:41\n",
      "   ---------- ----------------------------- 7.6/30.3 MB 561.2 kB/s eta 0:00:41\n",
      "   ---------- ----------------------------- 7.9/30.3 MB 568.4 kB/s eta 0:00:40\n",
      "   ---------- ----------------------------- 8.1/30.3 MB 579.2 kB/s eta 0:00:39\n",
      "   ----------- ---------------------------- 8.4/30.3 MB 589.0 kB/s eta 0:00:38\n",
      "   ----------- ---------------------------- 8.7/30.3 MB 594.5 kB/s eta 0:00:37\n",
      "   ----------- ---------------------------- 8.9/30.3 MB 605.1 kB/s eta 0:00:36\n",
      "   ------------ --------------------------- 9.2/30.3 MB 610.7 kB/s eta 0:00:35\n",
      "   ------------ --------------------------- 9.2/30.3 MB 610.7 kB/s eta 0:00:35\n",
      "   ------------ --------------------------- 9.4/30.3 MB 616.1 kB/s eta 0:00:34\n",
      "   ------------ --------------------------- 9.7/30.3 MB 623.3 kB/s eta 0:00:34\n",
      "   ------------- -------------------------- 10.0/30.3 MB 629.5 kB/s eta 0:00:33\n",
      "   ------------- -------------------------- 10.0/30.3 MB 629.5 kB/s eta 0:00:33\n",
      "   ------------- -------------------------- 10.2/30.3 MB 634.3 kB/s eta 0:00:32\n",
      "   ------------- -------------------------- 10.5/30.3 MB 640.8 kB/s eta 0:00:31\n",
      "   -------------- ------------------------- 10.7/30.3 MB 645.9 kB/s eta 0:00:31\n",
      "   -------------- ------------------------- 11.0/30.3 MB 650.8 kB/s eta 0:00:30\n",
      "   -------------- ------------------------- 11.0/30.3 MB 650.8 kB/s eta 0:00:30\n",
      "   -------------- ------------------------- 11.3/30.3 MB 651.2 kB/s eta 0:00:30\n",
      "   -------------- ------------------------- 11.3/30.3 MB 651.2 kB/s eta 0:00:30\n",
      "   --------------- ------------------------ 11.5/30.3 MB 652.2 kB/s eta 0:00:29\n",
      "   --------------- ------------------------ 11.8/30.3 MB 656.7 kB/s eta 0:00:29\n",
      "   --------------- ------------------------ 11.8/30.3 MB 656.7 kB/s eta 0:00:29\n",
      "   --------------- ------------------------ 12.1/30.3 MB 655.4 kB/s eta 0:00:28\n",
      "   --------------- ------------------------ 12.1/30.3 MB 655.4 kB/s eta 0:00:28\n",
      "   ---------------- ----------------------- 12.3/30.3 MB 654.0 kB/s eta 0:00:28\n",
      "   ---------------- ----------------------- 12.3/30.3 MB 654.0 kB/s eta 0:00:28\n",
      "   ---------------- ----------------------- 12.3/30.3 MB 654.0 kB/s eta 0:00:28\n",
      "   ---------------- ----------------------- 12.6/30.3 MB 651.7 kB/s eta 0:00:28\n",
      "   ---------------- ----------------------- 12.6/30.3 MB 651.7 kB/s eta 0:00:28\n",
      "   ---------------- ----------------------- 12.8/30.3 MB 647.3 kB/s eta 0:00:28\n",
      "   ---------------- ----------------------- 12.8/30.3 MB 647.3 kB/s eta 0:00:28\n",
      "   ---------------- ----------------------- 12.8/30.3 MB 647.3 kB/s eta 0:00:28\n",
      "   ----------------- ---------------------- 13.1/30.3 MB 641.2 kB/s eta 0:00:27\n",
      "   ----------------- ---------------------- 13.1/30.3 MB 641.2 kB/s eta 0:00:27\n",
      "   ----------------- ---------------------- 13.4/30.3 MB 636.5 kB/s eta 0:00:27\n",
      "   ----------------- ---------------------- 13.4/30.3 MB 636.5 kB/s eta 0:00:27\n",
      "   ----------------- ---------------------- 13.4/30.3 MB 636.5 kB/s eta 0:00:27\n",
      "   ----------------- ---------------------- 13.4/30.3 MB 636.5 kB/s eta 0:00:27\n",
      "   ----------------- ---------------------- 13.6/30.3 MB 623.6 kB/s eta 0:00:27\n",
      "   ----------------- ---------------------- 13.6/30.3 MB 623.6 kB/s eta 0:00:27\n",
      "   ------------------ --------------------- 13.9/30.3 MB 624.9 kB/s eta 0:00:27\n",
      "   ------------------ --------------------- 14.2/30.3 MB 628.8 kB/s eta 0:00:26\n",
      "   ------------------- -------------------- 14.4/30.3 MB 634.4 kB/s eta 0:00:26\n",
      "   ------------------- -------------------- 14.4/30.3 MB 634.4 kB/s eta 0:00:26\n",
      "   ------------------- -------------------- 14.7/30.3 MB 638.6 kB/s eta 0:00:25\n",
      "   ------------------- -------------------- 14.9/30.3 MB 643.9 kB/s eta 0:00:24\n",
      "   -------------------- ------------------- 15.2/30.3 MB 648.8 kB/s eta 0:00:24\n",
      "   -------------------- ------------------- 15.5/30.3 MB 651.3 kB/s eta 0:00:23\n",
      "   -------------------- ------------------- 15.5/30.3 MB 651.3 kB/s eta 0:00:23\n",
      "   -------------------- ------------------- 15.7/30.3 MB 654.2 kB/s eta 0:00:23\n",
      "   --------------------- ------------------ 16.0/30.3 MB 655.4 kB/s eta 0:00:22\n",
      "   --------------------- ------------------ 16.0/30.3 MB 655.4 kB/s eta 0:00:22\n",
      "   --------------------- ------------------ 16.3/30.3 MB 657.3 kB/s eta 0:00:22\n",
      "   --------------------- ------------------ 16.5/30.3 MB 659.2 kB/s eta 0:00:21\n",
      "   --------------------- ------------------ 16.5/30.3 MB 659.2 kB/s eta 0:00:21\n",
      "   ---------------------- ----------------- 16.8/30.3 MB 661.0 kB/s eta 0:00:21\n",
      "   ---------------------- ----------------- 17.0/30.3 MB 663.2 kB/s eta 0:00:21\n",
      "   ---------------------- ----------------- 17.3/30.3 MB 667.0 kB/s eta 0:00:20\n",
      "   ----------------------- ---------------- 17.6/30.3 MB 671.9 kB/s eta 0:00:20\n",
      "   ----------------------- ---------------- 17.6/30.3 MB 671.9 kB/s eta 0:00:20\n",
      "   ----------------------- ---------------- 17.8/30.3 MB 670.3 kB/s eta 0:00:19\n",
      "   ----------------------- ---------------- 17.8/30.3 MB 670.3 kB/s eta 0:00:19\n",
      "   ----------------------- ---------------- 18.1/30.3 MB 673.8 kB/s eta 0:00:19\n",
      "   ------------------------ --------------- 18.4/30.3 MB 675.8 kB/s eta 0:00:18\n",
      "   ------------------------ --------------- 18.4/30.3 MB 675.8 kB/s eta 0:00:18\n",
      "   ------------------------ --------------- 18.6/30.3 MB 676.5 kB/s eta 0:00:18\n",
      "   ------------------------ --------------- 18.9/30.3 MB 679.9 kB/s eta 0:00:17\n",
      "   ------------------------- -------------- 19.1/30.3 MB 681.7 kB/s eta 0:00:17\n",
      "   ------------------------- -------------- 19.1/30.3 MB 681.7 kB/s eta 0:00:17\n",
      "   ------------------------- -------------- 19.4/30.3 MB 682.7 kB/s eta 0:00:17\n",
      "   ------------------------- -------------- 19.4/30.3 MB 682.7 kB/s eta 0:00:17\n",
      "   ------------------------- -------------- 19.7/30.3 MB 683.3 kB/s eta 0:00:16\n",
      "   -------------------------- ------------- 19.9/30.3 MB 685.7 kB/s eta 0:00:16\n",
      "   -------------------------- ------------- 20.2/30.3 MB 688.9 kB/s eta 0:00:15\n",
      "   -------------------------- ------------- 20.2/30.3 MB 688.9 kB/s eta 0:00:15\n",
      "   -------------------------- ------------- 20.4/30.3 MB 689.3 kB/s eta 0:00:15\n",
      "   --------------------------- ------------ 20.7/30.3 MB 690.9 kB/s eta 0:00:14\n",
      "   --------------------------- ------------ 20.7/30.3 MB 690.9 kB/s eta 0:00:14\n",
      "   --------------------------- ------------ 21.0/30.3 MB 692.5 kB/s eta 0:00:14\n",
      "   ---------------------------- ----------- 21.2/30.3 MB 718.8 kB/s eta 0:00:13\n",
      "   ---------------------------- ----------- 21.5/30.3 MB 722.4 kB/s eta 0:00:13\n",
      "   ---------------------------- ----------- 21.8/30.3 MB 725.9 kB/s eta 0:00:12\n",
      "   ----------------------------- ---------- 22.0/30.3 MB 729.4 kB/s eta 0:00:12\n",
      "   ----------------------------- ---------- 22.0/30.3 MB 729.4 kB/s eta 0:00:12\n",
      "   ----------------------------- ---------- 22.3/30.3 MB 729.1 kB/s eta 0:00:12\n",
      "   ----------------------------- ---------- 22.3/30.3 MB 729.1 kB/s eta 0:00:12\n",
      "   ----------------------------- ---------- 22.5/30.3 MB 738.7 kB/s eta 0:00:11\n",
      "   ----------------------------- ---------- 22.5/30.3 MB 738.7 kB/s eta 0:00:11\n",
      "   ------------------------------ --------- 22.8/30.3 MB 736.3 kB/s eta 0:00:11\n",
      "   ------------------------------ --------- 23.1/30.3 MB 734.4 kB/s eta 0:00:10\n",
      "   ------------------------------ --------- 23.1/30.3 MB 734.4 kB/s eta 0:00:10\n",
      "   ------------------------------ --------- 23.3/30.3 MB 737.6 kB/s eta 0:00:10\n",
      "   ------------------------------- -------- 23.6/30.3 MB 738.2 kB/s eta 0:00:10\n",
      "   ------------------------------- -------- 23.6/30.3 MB 738.2 kB/s eta 0:00:10\n",
      "   ------------------------------- -------- 23.9/30.3 MB 742.5 kB/s eta 0:00:09\n",
      "   ------------------------------- -------- 24.1/30.3 MB 743.5 kB/s eta 0:00:09\n",
      "   -------------------------------- ------- 24.4/30.3 MB 746.6 kB/s eta 0:00:08\n",
      "   -------------------------------- ------- 24.6/30.3 MB 751.8 kB/s eta 0:00:08\n",
      "   -------------------------------- ------- 24.6/30.3 MB 751.8 kB/s eta 0:00:08\n",
      "   -------------------------------- ------- 24.9/30.3 MB 753.1 kB/s eta 0:00:08\n",
      "   --------------------------------- ------ 25.2/30.3 MB 757.0 kB/s eta 0:00:07\n",
      "   --------------------------------- ------ 25.4/30.3 MB 758.2 kB/s eta 0:00:07\n",
      "   --------------------------------- ------ 25.4/30.3 MB 758.2 kB/s eta 0:00:07\n",
      "   --------------------------------- ------ 25.7/30.3 MB 761.0 kB/s eta 0:00:07\n",
      "   ---------------------------------- ----- 26.0/30.3 MB 763.4 kB/s eta 0:00:06\n",
      "   ---------------------------------- ----- 26.2/30.3 MB 765.8 kB/s eta 0:00:06\n",
      "   ---------------------------------- ----- 26.2/30.3 MB 765.8 kB/s eta 0:00:06\n",
      "   ---------------------------------- ----- 26.5/30.3 MB 767.4 kB/s eta 0:00:06\n",
      "   ----------------------------------- ---- 26.7/30.3 MB 769.8 kB/s eta 0:00:05\n",
      "   ----------------------------------- ---- 27.0/30.3 MB 773.0 kB/s eta 0:00:05\n",
      "   ----------------------------------- ---- 27.0/30.3 MB 773.0 kB/s eta 0:00:05\n",
      "   ----------------------------------- ---- 27.3/30.3 MB 769.8 kB/s eta 0:00:04\n",
      "   ----------------------------------- ---- 27.3/30.3 MB 769.8 kB/s eta 0:00:04\n",
      "   ------------------------------------ --- 27.5/30.3 MB 771.5 kB/s eta 0:00:04\n",
      "   ------------------------------------ --- 27.5/30.3 MB 771.5 kB/s eta 0:00:04\n",
      "   ------------------------------------ --- 27.8/30.3 MB 770.2 kB/s eta 0:00:04\n",
      "   ------------------------------------ --- 28.0/30.3 MB 780.3 kB/s eta 0:00:03\n",
      "   ------------------------------------- -- 28.3/30.3 MB 783.4 kB/s eta 0:00:03\n",
      "   ------------------------------------- -- 28.3/30.3 MB 783.4 kB/s eta 0:00:03\n",
      "   ------------------------------------- -- 28.6/30.3 MB 780.9 kB/s eta 0:00:03\n",
      "   -------------------------------------- - 28.8/30.3 MB 786.7 kB/s eta 0:00:02\n",
      "   -------------------------------------- - 28.8/30.3 MB 786.7 kB/s eta 0:00:02\n",
      "   -------------------------------------- - 29.1/30.3 MB 788.9 kB/s eta 0:00:02\n",
      "   -------------------------------------- - 29.4/30.3 MB 791.8 kB/s eta 0:00:02\n",
      "   ---------------------------------------  29.6/30.3 MB 803.2 kB/s eta 0:00:01\n",
      "   ---------------------------------------  29.9/30.3 MB 805.2 kB/s eta 0:00:01\n",
      "   ---------------------------------------  29.9/30.3 MB 805.2 kB/s eta 0:00:01\n",
      "   ---------------------------------------  30.1/30.3 MB 806.8 kB/s eta 0:00:01\n",
      "   ---------------------------------------- 30.3/30.3 MB 810.2 kB/s eta 0:00:00\n",
      "Installing collected packages: slicer, llvmlite, cloudpickle, numba, shap\n",
      "Successfully installed cloudpickle-3.1.1 llvmlite-0.44.0 numba-0.61.2 shap-0.48.0 slicer-0.0.8\n",
      "Note: you may need to restart the kernel to use updated packages.\n"
     ]
    },
    {
     "name": "stderr",
     "output_type": "stream",
     "text": [
      "\n",
      "[notice] A new release of pip is available: 24.2 -> 25.1.1\n",
      "[notice] To update, run: python.exe -m pip install --upgrade pip\n",
      "C:\\Users\\try\\AppData\\Roaming\\Python\\Python312\\site-packages\\tqdm\\auto.py:21: TqdmWarning: IProgress not found. Please update jupyter and ipywidgets. See https://ipywidgets.readthedocs.io/en/stable/user_install.html\n",
      "  from .autonotebook import tqdm as notebook_tqdm\n"
     ]
    },
    {
     "data": {
      "image/png": "[encoded data removed]",
      "text/plain": [
       "<Figure size 800x550 with 2 Axes>"
      ]
     },
     "metadata": {},
     "output_type": "display_data"
    }
   ],
   "source": [
    "%pip install shap\n",
    "import shap\n",
    "\n",
    "explainer = shap.Explainer(xgb_model)\n",
    "shap_values = explainer(X_test)\n",
    "\n",
    "shap.summary_plot(shap_values, X_test, max_display=10)\n"
   ]
  },
  {
   "cell_type": "markdown",
   "id": "7c7a73e3",
   "metadata": {},
   "source": [
    "Predicting Claim Occurrence (Classification Model)"
   ]
  },
  {
   "cell_type": "markdown",
   "id": "f8df2d94",
   "metadata": {},
   "source": [
    "a. Prepare Data:"
   ]
  },
  {
   "cell_type": "code",
   "execution_count": 18,
   "id": "b97c3fce",
   "metadata": {},
   "outputs": [],
   "source": [
    "df_class = df.copy()\n",
    "df_class[\"HasClaim\"] = (df_class[\"TotalClaims\"] > 0).astype(int)\n",
    "df_class = pd.get_dummies(df_class, drop_first=True)\n"
   ]
  },
  {
   "cell_type": "markdown",
   "id": "810720d6",
   "metadata": {},
   "source": [
    "b. Train-Test Split:"
   ]
  },
  {
   "cell_type": "code",
   "execution_count": 19,
   "id": "7ab41e7c",
   "metadata": {},
   "outputs": [],
   "source": [
    "X = df_class.drop(columns=[\"HasClaim\", \"TotalClaims\", \"TotalPremium\"])\n",
    "y = df_class[\"HasClaim\"]\n",
    "X_train, X_test, y_train, y_test = train_test_split(X, y, stratify=y, test_size=0.2, random_state=42)\n"
   ]
  },
  {
   "cell_type": "markdown",
   "id": "47f15b0b",
   "metadata": {},
   "source": [
    "c. XGBoost Classification:"
   ]
  },
  {
   "cell_type": "code",
   "execution_count": null,
   "id": "4447baa8",
   "metadata": {},
   "outputs": [],
   "source": [
    "xgb_clf = xgb.XGBClassifier(random_state=42)\n",
    "xgb_clf.fit(X_train, y_train)\n",
    "\n",
    "from sklearn.metrics import classification_report\n",
    "y_pred_class = xgb_clf.predict(X_test)\n",
    "print(classification_report(y_test, y_pred_class))\n"
   ]
  },
  {
   "cell_type": "markdown",
   "id": "a9e17d78",
   "metadata": {},
   "source": [
    " Bonus: Premium Optimization Formula\n"
   ]
  },
  {
   "cell_type": "code",
   "execution_count": null,
   "id": "b1540979",
   "metadata": {},
   "outputs": [],
   "source": [
    "# Conceptual premium = (probability of claim) * (expected severity) + expenses + margin\n",
    "prob_claim = xgb_clf.predict_proba(X_test)[:, 1]\n",
    "severity_pred = xgb_model.predict(X_test)\n",
    "optimized_premium = prob_claim * severity_pred + 500  # add expense/margin\n"
   ]
  }
 ],
 "metadata": {
  "kernelspec": {
   "display_name": "Python 3",
   "language": "python",
   "name": "python3"
  },
  "language_info": {
   "codemirror_mode": {
    "name": "ipython",
    "version": 3
   },
   "file_extension": ".py",
   "mimetype": "text/x-python",
   "name": "python",
   "nbconvert_exporter": "python",
   "pygments_lexer": "ipython3",
   "version": "3.12.6"
  }
 },
 "nbformat": 4,
 "nbformat_minor": 5
}
