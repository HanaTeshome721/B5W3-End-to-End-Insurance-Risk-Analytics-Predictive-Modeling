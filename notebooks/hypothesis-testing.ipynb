{
 "cells": [
  {
   "cell_type": "markdown",
   "id": "e79eebb3",
   "metadata": {},
   "source": [
    " Select Key Metrics"
   ]
  },
  {
   "cell_type": "code",
   "execution_count": 3,
   "id": "3ed0e15a",
   "metadata": {},
   "outputs": [],
   "source": [
    "import pandas as pd\n",
    "\n",
    "df = pd.read_parquet(\"../data/MachineLearningRating_v3.parquet\")\n",
    "\n",
    "# Create derived metrics\n",
    "df[\"ClaimOccurred\"] = df[\"TotalClaims\"] > 0\n",
    "df[\"Margin\"] = df[\"TotalPremium\"] - df[\"TotalClaims\"]\n",
    "df[\"ClaimSeverity\"] = df[\"TotalClaims\"] / df[\"ClaimOccurred\"].replace(False, pd.NA)\n"
   ]
  },
  {
   "cell_type": "markdown",
   "id": "7a255014",
   "metadata": {},
   "source": [
    "Statistical Testing Functions"
   ]
  },
  {
   "cell_type": "code",
   "execution_count": 4,
   "id": "a5d76e3c",
   "metadata": {},
   "outputs": [],
   "source": [
    "from scipy.stats import ttest_ind, chi2_contingency\n",
    "import numpy as np\n",
    "\n",
    "def t_test_between_groups(df, group_col, metric):\n",
    "    groups = df[group_col].dropna().unique()\n",
    "    if len(groups) != 2:\n",
    "        raise ValueError(\"This test assumes exactly 2 groups.\")\n",
    "    a, b = groups\n",
    "    group_a = df[df[group_col] == a][metric].dropna()\n",
    "    group_b = df[df[group_col] == b][metric].dropna()\n",
    "    t_stat, p_value = ttest_ind(group_a, group_b, equal_var=False)\n",
    "    return f\"{a} vs {b}\", t_stat, p_value\n",
    "\n",
    "def chi_square_test(df, cat_col, binary_metric):\n",
    "    contingency = pd.crosstab(df[cat_col], df[binary_metric])\n",
    "    chi2, p, _, _ = chi2_contingency(contingency)\n",
    "    return chi2, p\n"
   ]
  },
  {
   "cell_type": "markdown",
   "id": "1b3a41ec",
   "metadata": {},
   "source": [
    "Test Hypotheses"
   ]
  },
  {
   "cell_type": "markdown",
   "id": "178a89ea",
   "metadata": {},
   "source": [
    "H₀: No risk differences across provinces"
   ]
  },
  {
   "cell_type": "code",
   "execution_count": 5,
   "id": "5c9c2b33",
   "metadata": {},
   "outputs": [
    {
     "name": "stdout",
     "output_type": "stream",
     "text": [
      "Province vs ClaimOccurred: Chi2 = 104.19, p = 0.0000\n"
     ]
    }
   ],
   "source": [
    "# Claim frequency by province\n",
    "chi2, p = chi_square_test(df, \"Province\", \"ClaimOccurred\")\n",
    "print(f\"Province vs ClaimOccurred: Chi2 = {chi2:.2f}, p = {p:.4f}\")\n"
   ]
  },
  {
   "cell_type": "markdown",
   "id": "ad42c6e7",
   "metadata": {},
   "source": [
    "H₀: No risk differences between zip codes"
   ]
  },
  {
   "cell_type": "code",
   "execution_count": 6,
   "id": "01d89f8f",
   "metadata": {},
   "outputs": [
    {
     "name": "stdout",
     "output_type": "stream",
     "text": [
      "PostalCode vs ClaimOccurred: Chi2 = 1454.47, p = 0.0000\n"
     ]
    }
   ],
   "source": [
    "chi2, p = chi_square_test(df, \"PostalCode\", \"ClaimOccurred\")\n",
    "print(f\"PostalCode vs ClaimOccurred: Chi2 = {chi2:.2f}, p = {p:.4f}\")\n"
   ]
  },
  {
   "cell_type": "markdown",
   "id": "7063571e",
   "metadata": {},
   "source": [
    "H₀: No significant margin difference between zip codes"
   ]
  },
  {
   "cell_type": "code",
   "execution_count": 7,
   "id": "d0222693",
   "metadata": {},
   "outputs": [
    {
     "name": "stdout",
     "output_type": "stream",
     "text": [
      "1459 vs 1513: t = -0.44, p = 0.6630\n"
     ]
    }
   ],
   "source": [
    "result, t_stat, p_value = t_test_between_groups(df[df[\"PostalCode\"].isin(df[\"PostalCode\"].unique()[:2])], \"PostalCode\", \"Margin\")\n",
    "print(f\"{result}: t = {t_stat:.2f}, p = {p_value:.4f}\")\n"
   ]
  },
  {
   "cell_type": "markdown",
   "id": "4772a112",
   "metadata": {},
   "source": [
    "H₀: No significant risk difference between Women and Men"
   ]
  },
  {
   "cell_type": "code",
   "execution_count": 8,
   "id": "1cd71ee3",
   "metadata": {},
   "outputs": [
    {
     "name": "stdout",
     "output_type": "stream",
     "text": [
      "Gender vs ClaimOccurred: Chi2 = 0.00, p = 0.9515\n"
     ]
    }
   ],
   "source": [
    "chi2, p = chi_square_test(df[df[\"Gender\"].isin([\"Female\", \"Male\"])], \"Gender\", \"ClaimOccurred\")\n",
    "print(f\"Gender vs ClaimOccurred: Chi2 = {chi2:.2f}, p = {p:.4f}\")\n"
   ]
  }
 ],
 "metadata": {
  "kernelspec": {
   "display_name": "Python 3",
   "language": "python",
   "name": "python3"
  },
  "language_info": {
   "codemirror_mode": {
    "name": "ipython",
    "version": 3
   },
   "file_extension": ".py",
   "mimetype": "text/x-python",
   "name": "python",
   "nbconvert_exporter": "python",
   "pygments_lexer": "ipython3",
   "version": "3.12.6"
  }
 },
 "nbformat": 4,
 "nbformat_minor": 5
}
